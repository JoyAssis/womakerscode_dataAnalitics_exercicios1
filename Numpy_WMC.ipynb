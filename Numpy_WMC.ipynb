{
  "nbformat": 4,
  "nbformat_minor": 0,
  "metadata": {
    "colab": {
      "provenance": [],
      "toc_visible": true,
      "authorship_tag": "ABX9TyMB7AU9jxbTPnKHIp08+MUR",
      "include_colab_link": true
    },
    "kernelspec": {
      "name": "python3",
      "display_name": "Python 3"
    },
    "language_info": {
      "name": "python"
    }
  },
  "cells": [
    {
      "cell_type": "markdown",
      "metadata": {
        "id": "view-in-github",
        "colab_type": "text"
      },
      "source": [
        "<a href=\"https://colab.research.google.com/github/JoyAssis/womakerscode_dataAnalitics_exercicios1/blob/main/Numpy_WMC.ipynb\" target=\"_parent\"><img src=\"https://colab.research.google.com/assets/colab-badge.svg\" alt=\"Open In Colab\"/></a>"
      ]
    },
    {
      "cell_type": "markdown",
      "source": [
        "1. Crie um array com 4 linhas e 3 colunas com valores aleatórios."
      ],
      "metadata": {
        "id": "vKyPkRbcDmcz"
      }
    },
    {
      "cell_type": "code",
      "execution_count": 2,
      "metadata": {
        "id": "YqH6_1MhC8YI"
      },
      "outputs": [],
      "source": [
        "import numpy as np"
      ]
    },
    {
      "cell_type": "code",
      "source": [
        "np.random.random((4,3))"
      ],
      "metadata": {
        "colab": {
          "base_uri": "https://localhost:8080/"
        },
        "id": "WydIHSjNEIBO",
        "outputId": "542664c4-b327-45e3-93cb-d6582bab5ca2"
      },
      "execution_count": null,
      "outputs": [
        {
          "output_type": "execute_result",
          "data": {
            "text/plain": [
              "array([[0.83350629, 0.31602918, 0.36805748],\n",
              "       [0.84474502, 0.17330137, 0.11993589],\n",
              "       [0.3252084 , 0.87370367, 0.83364576],\n",
              "       [0.54381752, 0.13754391, 0.58901718]])"
            ]
          },
          "metadata": {},
          "execution_count": 2
        }
      ]
    },
    {
      "cell_type": "markdown",
      "source": [
        "2. Crie um array com valores inteiros, 3 linhas e 5 colunas com valores\n",
        "aleatórios."
      ],
      "metadata": {
        "id": "s_VdWY6MDrHv"
      }
    },
    {
      "cell_type": "code",
      "source": [
        "np.random.randint(20,size=(3,5))"
      ],
      "metadata": {
        "colab": {
          "base_uri": "https://localhost:8080/"
        },
        "id": "95iQo2eRDyRW",
        "outputId": "2914e118-89d4-475f-e66d-56bfb8a17621"
      },
      "execution_count": null,
      "outputs": [
        {
          "output_type": "execute_result",
          "data": {
            "text/plain": [
              "array([[ 5, 12, 12, 15,  8],\n",
              "       [ 4,  3, 10, 16, 18],\n",
              "       [11, 13,  5, 10,  6]])"
            ]
          },
          "metadata": {},
          "execution_count": 4
        }
      ]
    },
    {
      "cell_type": "markdown",
      "source": [
        "3. Crie um array com 5 colunas e 10 linhas inicializados com zeros."
      ],
      "metadata": {
        "id": "qJiKT_O3DyoY"
      }
    },
    {
      "cell_type": "code",
      "source": [
        "np.zeros((10,5))"
      ],
      "metadata": {
        "colab": {
          "base_uri": "https://localhost:8080/"
        },
        "id": "c2lUktyWD1sj",
        "outputId": "fb722f60-668f-4009-da97-5da9246b115b"
      },
      "execution_count": null,
      "outputs": [
        {
          "output_type": "execute_result",
          "data": {
            "text/plain": [
              "array([[0., 0., 0., 0., 0.],\n",
              "       [0., 0., 0., 0., 0.],\n",
              "       [0., 0., 0., 0., 0.],\n",
              "       [0., 0., 0., 0., 0.],\n",
              "       [0., 0., 0., 0., 0.],\n",
              "       [0., 0., 0., 0., 0.],\n",
              "       [0., 0., 0., 0., 0.],\n",
              "       [0., 0., 0., 0., 0.],\n",
              "       [0., 0., 0., 0., 0.],\n",
              "       [0., 0., 0., 0., 0.]])"
            ]
          },
          "metadata": {},
          "execution_count": 6
        }
      ]
    },
    {
      "cell_type": "markdown",
      "source": [
        "4. Crie um array que vá entre 0 e 90 pulando de 4 em 4."
      ],
      "metadata": {
        "id": "nXNcRkiyD2Tv"
      }
    },
    {
      "cell_type": "code",
      "source": [
        "np.arange(0,100,4)"
      ],
      "metadata": {
        "colab": {
          "base_uri": "https://localhost:8080/"
        },
        "id": "8uP8cIDDD43X",
        "outputId": "fa35af80-2304-411c-a1e5-ab049c339c1c"
      },
      "execution_count": null,
      "outputs": [
        {
          "output_type": "execute_result",
          "data": {
            "text/plain": [
              "array([ 0,  4,  8, 12, 16, 20, 24, 28, 32, 36, 40, 44, 48, 52, 56, 60, 64,\n",
              "       68, 72, 76, 80, 84, 88, 92, 96])"
            ]
          },
          "metadata": {},
          "execution_count": 7
        }
      ]
    },
    {
      "cell_type": "markdown",
      "source": [
        "5. Reduza o array (5,7) a apenas uma dimensão."
      ],
      "metadata": {
        "id": "zjFeTylJD5RZ"
      }
    },
    {
      "cell_type": "code",
      "source": [
        "arr = np.random.random((5,7))"
      ],
      "metadata": {
        "id": "8T_j9-l1D9q5"
      },
      "execution_count": 8,
      "outputs": []
    },
    {
      "cell_type": "code",
      "source": [
        "print(arr)"
      ],
      "metadata": {
        "colab": {
          "base_uri": "https://localhost:8080/"
        },
        "id": "FQe8YHChh4o6",
        "outputId": "128f9f17-7062-4125-ebac-68a203710fde"
      },
      "execution_count": 9,
      "outputs": [
        {
          "output_type": "stream",
          "name": "stdout",
          "text": [
            "[[0.29806982 0.41241313 0.84032919 0.85425314 0.21236569 0.05439858\n",
            "  0.10891901]\n",
            " [0.69808028 0.3178481  0.47102782 0.18697631 0.98945665 0.4905844\n",
            "  0.65411064]\n",
            " [0.96848007 0.44941283 0.06235507 0.67247197 0.62246301 0.16754248\n",
            "  0.56675545]\n",
            " [0.72181522 0.32845321 0.49075663 0.47416746 0.95832643 0.35975553\n",
            "  0.7314534 ]\n",
            " [0.83307242 0.66148936 0.85881768 0.61896792 0.30918183 0.87193066\n",
            "  0.81903261]]\n"
          ]
        }
      ]
    },
    {
      "cell_type": "code",
      "source": [
        "arr_one_dimension = arr.flatten()"
      ],
      "metadata": {
        "id": "plfrWpdwhbv5"
      },
      "execution_count": 10,
      "outputs": []
    },
    {
      "cell_type": "code",
      "source": [
        "print(arr_one_dimension)"
      ],
      "metadata": {
        "colab": {
          "base_uri": "https://localhost:8080/"
        },
        "id": "6FBePxxwiMCB",
        "outputId": "dd7ea989-cd56-45cd-daab-05562074f381"
      },
      "execution_count": 11,
      "outputs": [
        {
          "output_type": "stream",
          "name": "stdout",
          "text": [
            "[0.29806982 0.41241313 0.84032919 0.85425314 0.21236569 0.05439858\n",
            " 0.10891901 0.69808028 0.3178481  0.47102782 0.18697631 0.98945665\n",
            " 0.4905844  0.65411064 0.96848007 0.44941283 0.06235507 0.67247197\n",
            " 0.62246301 0.16754248 0.56675545 0.72181522 0.32845321 0.49075663\n",
            " 0.47416746 0.95832643 0.35975553 0.7314534  0.83307242 0.66148936\n",
            " 0.85881768 0.61896792 0.30918183 0.87193066 0.81903261]\n"
          ]
        }
      ]
    },
    {
      "cell_type": "markdown",
      "source": [
        "6. Considerando que você é uma organizadora de um jogo de bingo. Crie\n",
        "um array que irá representar a cartilha desses jogos de bingo. os\n",
        "números das suas cartelas variam entre 1 e 30, e você terá 10\n",
        "participantes. Cada cartela terá 12 números (4, 3). Crie um array que\n",
        "representa esse jogo."
      ],
      "metadata": {
        "id": "1J_yWhHjD9-1"
      }
    },
    {
      "cell_type": "code",
      "source": [
        "cartilhas = np.random.randint(1,31, size=(10, 4,3))\n",
        "print(cartilhas)"
      ],
      "metadata": {
        "id": "rI2L6h4tEB9m",
        "colab": {
          "base_uri": "https://localhost:8080/"
        },
        "outputId": "c1323728-0316-41dd-d8bf-603940c9c459"
      },
      "execution_count": 14,
      "outputs": [
        {
          "output_type": "stream",
          "name": "stdout",
          "text": [
            "[[[19 23 25]\n",
            "  [ 3 13 14]\n",
            "  [ 8 25  2]\n",
            "  [21 19 15]]\n",
            "\n",
            " [[20 16 29]\n",
            "  [ 9 20 29]\n",
            "  [11 25 19]\n",
            "  [ 3 13 14]]\n",
            "\n",
            " [[25 13  7]\n",
            "  [14 19  2]\n",
            "  [29 26  5]\n",
            "  [23  1 25]]\n",
            "\n",
            " [[ 1  5  1]\n",
            "  [17 14 20]\n",
            "  [18 26 16]\n",
            "  [26 30 22]]\n",
            "\n",
            " [[ 8 28  8]\n",
            "  [ 5 28 21]\n",
            "  [19 11  3]\n",
            "  [14 10  1]]\n",
            "\n",
            " [[ 5 11  6]\n",
            "  [27  9 14]\n",
            "  [ 7  7 25]\n",
            "  [ 7  1  2]]\n",
            "\n",
            " [[18  5  4]\n",
            "  [25 14 24]\n",
            "  [24 13 23]\n",
            "  [19  5 13]]\n",
            "\n",
            " [[ 4 25 27]\n",
            "  [ 6 23  6]\n",
            "  [22 12  7]\n",
            "  [13 13 29]]\n",
            "\n",
            " [[11 12 30]\n",
            "  [21 13  8]\n",
            "  [ 7 30 23]\n",
            "  [22 29 30]]\n",
            "\n",
            " [[ 3 23 29]\n",
            "  [ 9 13 26]\n",
            "  [ 7 28 13]\n",
            "  [29 11  8]]]\n"
          ]
        }
      ]
    },
    {
      "cell_type": "markdown",
      "source": [
        "7. Faça o reshape das suas cartelas para que haja 5 cartelas de 4 linhas e\n",
        "6 colunas."
      ],
      "metadata": {
        "id": "HmEJLm1sECQz"
      }
    },
    {
      "cell_type": "code",
      "source": [
        "metade_cartilhas = cartilhas.reshape(5,4,6)"
      ],
      "metadata": {
        "id": "XUVgD_p9EFnB"
      },
      "execution_count": 15,
      "outputs": []
    },
    {
      "cell_type": "code",
      "source": [
        "print(metade_cartilhas)"
      ],
      "metadata": {
        "colab": {
          "base_uri": "https://localhost:8080/"
        },
        "id": "6aaCc8Nhlutb",
        "outputId": "707ed511-db46-4d24-ffc0-a8da7f91913d"
      },
      "execution_count": 16,
      "outputs": [
        {
          "output_type": "stream",
          "name": "stdout",
          "text": [
            "[[[19 23 25  3 13 14]\n",
            "  [ 8 25  2 21 19 15]\n",
            "  [20 16 29  9 20 29]\n",
            "  [11 25 19  3 13 14]]\n",
            "\n",
            " [[25 13  7 14 19  2]\n",
            "  [29 26  5 23  1 25]\n",
            "  [ 1  5  1 17 14 20]\n",
            "  [18 26 16 26 30 22]]\n",
            "\n",
            " [[ 8 28  8  5 28 21]\n",
            "  [19 11  3 14 10  1]\n",
            "  [ 5 11  6 27  9 14]\n",
            "  [ 7  7 25  7  1  2]]\n",
            "\n",
            " [[18  5  4 25 14 24]\n",
            "  [24 13 23 19  5 13]\n",
            "  [ 4 25 27  6 23  6]\n",
            "  [22 12  7 13 13 29]]\n",
            "\n",
            " [[11 12 30 21 13  8]\n",
            "  [ 7 30 23 22 29 30]\n",
            "  [ 3 23 29  9 13 26]\n",
            "  [ 7 28 13 29 11  8]]]\n"
          ]
        }
      ]
    },
    {
      "cell_type": "markdown",
      "source": [
        "# Manipulando Arrays"
      ],
      "metadata": {
        "id": "YzvdeSJanaWf"
      }
    },
    {
      "cell_type": "markdown",
      "source": [
        "1."
      ],
      "metadata": {
        "id": "0aYbEGKpnf1q"
      }
    },
    {
      "cell_type": "code",
      "source": [
        "especies=np.array([[747,89,33,5],[623,123,32,13],[501,22,49,2],[116,101,42,10],[297,56,69,22],[613,64,27,7],[295,84,29,14],[692,105,72,16],[229,103,35,5],[374,124,70,1]])"
      ],
      "metadata": {
        "id": "lm-9-wGQn0rS"
      },
      "execution_count": 17,
      "outputs": []
    },
    {
      "cell_type": "markdown",
      "source": [],
      "metadata": {
        "id": "sl3vfplVn4Ch"
      }
    }
  ]
}